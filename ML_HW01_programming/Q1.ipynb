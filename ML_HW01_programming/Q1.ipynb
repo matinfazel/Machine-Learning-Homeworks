{
  "cells": [
    {
      "cell_type": "code",
      "execution_count": 2,
      "metadata": {
        "id": "4qwFOrQW4PQ0"
      },
      "outputs": [],
      "source": [
        "import matplotlib.pyplot as plt\n",
        "import numpy as np\n",
        "import pandas as pd\n",
        "from sklearn.preprocessing import MinMaxScaler\n",
        "import matplotlib.pyplot as plt\n",
        "from sklearn.linear_model import LinearRegression"
      ]
    },
    {
      "cell_type": "code",
      "execution_count": 3,
      "metadata": {
        "id": "_XPYaacq_fwD"
      },
      "outputs": [
        {
          "ename": "AttributeError",
          "evalue": "module 'numpy' has no attribute 'float128'",
          "output_type": "error",
          "traceback": [
            "\u001b[1;31m---------------------------------------------------------------------------\u001b[0m",
            "\u001b[1;31mAttributeError\u001b[0m                            Traceback (most recent call last)",
            "Cell \u001b[1;32mIn[3], line 3\u001b[0m\n\u001b[0;32m      1\u001b[0m data \u001b[39m=\u001b[39m pd\u001b[39m.\u001b[39mread_csv(\u001b[39m\"\u001b[39m\u001b[39minsurance.csv\u001b[39m\u001b[39m\"\u001b[39m)\n\u001b[0;32m      2\u001b[0m data \u001b[39m=\u001b[39m data\u001b[39m.\u001b[39mto_numpy()\n\u001b[1;32m----> 3\u001b[0m data \u001b[39m=\u001b[39m data\u001b[39m.\u001b[39mastype(np\u001b[39m.\u001b[39;49mfloat128)\n",
            "File \u001b[1;32mc:\\Users\\matin\\AppData\\Local\\Programs\\Python\\Python311\\Lib\\site-packages\\numpy\\__init__.py:284\u001b[0m, in \u001b[0;36m__getattr__\u001b[1;34m(attr)\u001b[0m\n\u001b[0;32m    281\u001b[0m     \u001b[39mfrom\u001b[39;00m \u001b[39m.\u001b[39;00m\u001b[39mtesting\u001b[39;00m \u001b[39mimport\u001b[39;00m Tester\n\u001b[0;32m    282\u001b[0m     \u001b[39mreturn\u001b[39;00m Tester\n\u001b[1;32m--> 284\u001b[0m \u001b[39mraise\u001b[39;00m \u001b[39mAttributeError\u001b[39;00m(\u001b[39m\"\u001b[39m\u001b[39mmodule \u001b[39m\u001b[39m{!r}\u001b[39;00m\u001b[39m has no attribute \u001b[39m\u001b[39m\"\u001b[39m\n\u001b[0;32m    285\u001b[0m                      \u001b[39m\"\u001b[39m\u001b[39m{!r}\u001b[39;00m\u001b[39m\"\u001b[39m\u001b[39m.\u001b[39mformat(\u001b[39m__name__\u001b[39m, attr))\n",
            "\u001b[1;31mAttributeError\u001b[0m: module 'numpy' has no attribute 'float128'"
          ]
        }
      ],
      "source": [
        "data = pd.read_csv(\"insurance.csv\")\n",
        "data = data.to_numpy()\n",
        "data = data.astype(np.float128)"
      ]
    },
    {
      "cell_type": "code",
      "execution_count": 4,
      "metadata": {
        "id": "BByyCdS64fQE"
      },
      "outputs": [],
      "source": [
        "x_train = data[:,:3]\n",
        "y_train = data[:,3]"
      ]
    },
    {
      "cell_type": "code",
      "execution_count": null,
      "metadata": {
        "colab": {
          "base_uri": "https://localhost:8080/"
        },
        "id": "htRe8e9FfwKT",
        "outputId": "3e1e56f6-8e98-4c56-e0ee-9387e82fb62d"
      },
      "outputs": [
        {
          "data": {
            "text/plain": [
              "dtype('float128')"
            ]
          },
          "execution_count": 5,
          "metadata": {},
          "output_type": "execute_result"
        }
      ],
      "source": [
        "x_train.dtype"
      ]
    },
    {
      "cell_type": "markdown",
      "metadata": {
        "id": "hi-UKLs8Z6lO"
      },
      "source": [
        "قسمت الف\n",
        "\n",
        "\n",
        "ابتدا در کلاس linear_regresion متغیر های مورد نظر مانند نرخ یادگیری و... قرار داده شده است و سپس سه نوع برازش خطی Mini-batch GD و Batch GD و SGD هر کدام در یک تابع جدا پیاده سازی شده اند.\n",
        "\n",
        "توجه داشته باشید مقداردهی اولیه متغیر های تتا به صورت عددی تصادفی بین صفر و یک میباشد بنابراین ممکن است کمی این مقدار دهی در اعداد نهایی بدست آمده تغییر ایجاد کنند.\n",
        "\n",
        "\n"
      ]
    },
    {
      "cell_type": "code",
      "execution_count": 6,
      "metadata": {
        "id": "KHJf-Jp1LCU6"
      },
      "outputs": [],
      "source": [
        "class linear_regresion:\n",
        "  def __init__(self,x_train, learning_rate=0.00001,iteration=200,batch_size=64):\n",
        "      np.random.seed(1)\n",
        "      self.number_of_features = x_train.shape[1]\n",
        "      self.number_of_training_examples = x_train.shape[0]\n",
        "      self.learning_rate = learning_rate\n",
        "      self.iteration = iteration\n",
        "      self.batch_size = batch_size\n",
        "      self.theta = np.random.rand(self.number_of_features + 1)\n",
        "      self.cost = np.zeros((iteration))\n",
        "\n",
        "  def reset_parameters(self,learning_rate=0.00001, iteration=200, batch_size=64):\n",
        "      np.random.seed(1)\n",
        "      self.learning_rate = learning_rate\n",
        "      self.iteration = iteration\n",
        "      self.batch_size = batch_size\n",
        "      self.theta = np.random.rand(self.number_of_features + 1)\n",
        "      self.cost = np.zeros((iteration))"
      ]
    },
    {
      "cell_type": "code",
      "execution_count": 7,
      "metadata": {
        "id": "YQoqc9h-8xp5"
      },
      "outputs": [],
      "source": [
        "Regression = linear_regresion(x_train)"
      ]
    },
    {
      "cell_type": "code",
      "execution_count": 8,
      "metadata": {
        "id": "dJM4E_38f67q"
      },
      "outputs": [],
      "source": [
        "def hypothesis(theta,x_train):\n",
        "  h_theta = np.zeros((x_train.shape[0]))\n",
        "  for i in range(x_train.shape[0]):\n",
        "    h_theta[i] = np.matmul(x_train[i],theta[1:]) + theta[0]\n",
        "  return h_theta"
      ]
    },
    {
      "cell_type": "code",
      "execution_count": 9,
      "metadata": {
        "id": "RvBqGqVWmVu8"
      },
      "outputs": [],
      "source": [
        "def cost_function(h,y,m):\n",
        "  return (1 / (2 * m) ) * sum(np.square(h - y))"
      ]
    },
    {
      "cell_type": "code",
      "execution_count": 10,
      "metadata": {
        "id": "rk7RlmX-pmuZ"
      },
      "outputs": [],
      "source": [
        "def plot(iterations,y1,y2,y3,title=None):\n",
        "   x = [i for i in range(iterations)]\n",
        "   plt.plot(x,y1, label ='BGD')\n",
        "   plt.plot(x,y2, label ='SGD')\n",
        "   plt.plot(x,y3, label ='MiniBatch')\n",
        "   plt.xlabel('Ittertion')\n",
        "   plt.ylabel(\"Cost\")\n",
        "   plt.title(title)\n",
        "   plt.legend()\n",
        "   plt.show()"
      ]
    },
    {
      "cell_type": "code",
      "execution_count": 11,
      "metadata": {
        "id": "OOqSrXpQjD2v"
      },
      "outputs": [],
      "source": [
        "def BGD(Regression):\n",
        "  for iter in range(Regression.iteration):\n",
        "    h = hypothesis(Regression.theta,x_train)\n",
        "    Regression.theta[0] = Regression.theta[0] - (Regression.learning_rate/x_train.shape[0]) * sum(h - y_train)\n",
        "    for j in range(1,Regression.number_of_features + 1):\n",
        "      Regression.theta[j] = Regression.theta[j] - (Regression.learning_rate/x_train.shape[0]) * np.sum((h-y_train) * x_train.transpose()[j-1])\n",
        "    h = hypothesis(Regression.theta, x_train)\n",
        "    Regression.cost[iter] = cost_function(h,y_train,x_train.shape[0])\n",
        "  return Regression.cost, Regression.theta"
      ]
    },
    {
      "cell_type": "code",
      "execution_count": 12,
      "metadata": {
        "id": "JR02kn-1Y4T-"
      },
      "outputs": [],
      "source": [
        "def SGD(Regression):\n",
        "  for iter in range(Regression.iteration):\n",
        "    for k in range(Regression.number_of_training_examples):\n",
        "      h = hypothesis(Regression.theta,np.reshape(x_train[k],(1,-1)))\n",
        "      Regression.theta[0] = Regression.theta[0] - (Regression.learning_rate) * (h[0] - y_train[k])\n",
        "      for j in range(1,Regression.number_of_features + 1):\n",
        "        Regression.theta[j] = Regression.theta[j] - (Regression.learning_rate) * (h-y_train[k]) * x_train[k].transpose()[j-1]\n",
        "    h =  np.array(hypothesis(Regression.theta, x_train))\n",
        "    Regression.cost[iter] = cost_function(h,y_train,x_train.shape[0])\n",
        "  return Regression.cost, Regression.theta"
      ]
    },
    {
      "cell_type": "code",
      "execution_count": 13,
      "metadata": {
        "id": "1vTaWc1wZAGX"
      },
      "outputs": [],
      "source": [
        "def MiniBatch(Regression):\n",
        "  for iter in range(Regression.iteration):\n",
        "    for k in range(Regression.number_of_training_examples//Regression.batch_size):\n",
        "      h = hypothesis(Regression.theta,x_train[k*Regression.batch_size:(k+1)*Regression.batch_size])\n",
        "      Regression.theta[0] = Regression.theta[0] - (Regression.learning_rate/Regression.batch_size) * sum(h - y_train[k*Regression.batch_size:(k+1)*Regression.batch_size])\n",
        "      for j in range(1,Regression.number_of_features + 1):\n",
        "        Regression.theta[j] = Regression.theta[j] - (Regression.learning_rate) * np.sum((h-y_train[k*Regression.batch_size:(k+1)*Regression.batch_size]) * x_train[k*Regression.batch_size:(k+1)*Regression.batch_size].transpose()[j-1])\n",
        "    h = np.array(hypothesis(Regression.theta, x_train))\n",
        "    Regression.cost[iter] = cost_function(h,y_train,x_train.shape[0])\n",
        "  return Regression.cost, Regression.theta  "
      ]
    },
    {
      "cell_type": "markdown",
      "metadata": {
        "id": "pIiE5DsGdUjl"
      },
      "source": [
        "حال پس از این پیاده سازی ها این برازش خطی را برای هر سه روش پیاده میکنیم"
      ]
    },
    {
      "cell_type": "code",
      "execution_count": 14,
      "metadata": {
        "id": "LBvEJOPFZRtZ"
      },
      "outputs": [],
      "source": [
        "Regression.reset_parameters()\n",
        "BGD_cost, BGD_theta = BGD(Regression)\n",
        "Regression.reset_parameters()\n",
        "SGD_cost, SGD_theta = SGD(Regression)\n",
        "Regression.reset_parameters()\n",
        "Mini_cost, Mini_theta = MiniBatch(Regression)"
      ]
    },
    {
      "cell_type": "markdown",
      "metadata": {
        "id": "ru9n4lNOdevb"
      },
      "source": [
        "قسمت ب\n",
        "\n",
        "الان سه تابع پیاده شده را در قالب یک نمودار در اخیتار داریم تو\n",
        "الگوریتم BGD و MiniBatch همگرایی بیشتری دارند\n",
        "\n",
        "همچنین این دو روش کمینه خطای کمتری را دارند."
      ]
    },
    {
      "cell_type": "code",
      "execution_count": 15,
      "metadata": {
        "colab": {
          "base_uri": "https://localhost:8080/",
          "height": 290
        },
        "id": "QhXMgTIsB07T",
        "outputId": "c7e84e8d-cbf1-4830-c536-32eede0646b1"
      },
      "outputs": [
        {
          "data": {
            "image/png": "[encoded data removed]",
            "text/plain": [
              "<Figure size 432x288 with 1 Axes>"
            ]
          },
          "metadata": {
            "needs_background": "light"
          },
          "output_type": "display_data"
        }
      ],
      "source": [
        "plot(Regression.iteration,BGD_cost,SGD_cost,Mini_cost)"
      ]
    },
    {
      "cell_type": "markdown",
      "metadata": {
        "id": "sR0uE0nmGeFS"
      },
      "source": [
        "قسمت ج\n",
        "\n",
        "الان نرخ یادگیری را برابر 0.0000001 قرار میدهیم تا تاثیر آن را ببینیم:\n",
        "همانطور که پیدا است با کاهش قابل توجه نرخ یادگیری این سه روش \n",
        "همگرایی بیشتری دارند و همچنین در هر سه مورد شاهد خطای کمتری میباشیم.\n",
        "همچنین با تعداد اجرای کمتر به کمینه خطای مورد نظر میرسیم."
      ]
    },
    {
      "cell_type": "code",
      "execution_count": 16,
      "metadata": {
        "id": "CTsPoz13GdSX"
      },
      "outputs": [],
      "source": [
        "Regression.reset_parameters(learning_rate=0.0000001)\n",
        "BGD_cost, BGD_theta = BGD(Regression)\n",
        "Regression.reset_parameters(learning_rate=0.0000001)\n",
        "SGD_cost, SGD_theta = SGD(Regression)\n",
        "Regression.reset_parameters(learning_rate=0.0000001)\n",
        "Mini_cost, Mini_theta = MiniBatch(Regression)"
      ]
    },
    {
      "cell_type": "code",
      "execution_count": 17,
      "metadata": {
        "colab": {
          "base_uri": "https://localhost:8080/",
          "height": 295
        },
        "id": "XxAX3MZTG1Ja",
        "outputId": "184de55c-7892-49de-e5c9-364327c80f5b"
      },
      "outputs": [
        {
          "data": {
            "image/png": "[encoded data removed]",
            "text/plain": [
              "<Figure size 432x288 with 1 Axes>"
            ]
          },
          "metadata": {
            "needs_background": "light"
          },
          "output_type": "display_data"
        }
      ],
      "source": [
        "plot(Regression.iteration,BGD_cost,SGD_cost,Mini_cost, title=\"Gradient Descent with learning rate = 0.0000001\")"
      ]
    },
    {
      "cell_type": "markdown",
      "metadata": {
        "id": "v8j-wOPMTRAF"
      },
      "source": []
    },
    {
      "cell_type": "markdown",
      "metadata": {
        "id": "hkXftGcr_dOg"
      },
      "source": [
        "قسمت د \n",
        "\n",
        "نرخ یادگیری را برابر به حالت اولیه 10 برابر میکنیم\n",
        "و توجه میشویم در هر سه روش بیان شده شاهد خطای بیشتری هستیم و همچنین بدلیل بزرگ شدن خطای بدست آمده شاهد اورفلو شدن میباشیم که این عدد بزرگ برای این الگوریتم ها اصلا مناسب نیست."
      ]
    },
    {
      "cell_type": "code",
      "execution_count": 18,
      "metadata": {
        "colab": {
          "base_uri": "https://localhost:8080/"
        },
        "id": "XGXRRLwQpUaJ",
        "outputId": "8faaf971-be10-4063-be90-810b5a7f0f12"
      },
      "outputs": [
        {
          "name": "stderr",
          "output_type": "stream",
          "text": [
            "/usr/local/lib/python3.7/dist-packages/ipykernel_launcher.py:7: RuntimeWarning: invalid value encountered in multiply\n",
            "  import sys\n"
          ]
        }
      ],
      "source": [
        "Regression.reset_parameters(learning_rate=0.0001)\n",
        "BGD_cost, BGD_theta = BGD(Regression)\n",
        "Regression.reset_parameters(learning_rate=0.0001)\n",
        "SGD_cost, SGD_theta = SGD(Regression)\n",
        "Regression.reset_parameters(learning_rate=0.0001)\n",
        "Mini_cost, Mini_theta = MiniBatch(Regression)"
      ]
    },
    {
      "cell_type": "code",
      "execution_count": 19,
      "metadata": {
        "colab": {
          "base_uri": "https://localhost:8080/",
          "height": 295
        },
        "id": "7ItBc1JBBoDg",
        "outputId": "acd05679-7a5d-4e68-b22d-54bc787f3787"
      },
      "outputs": [
        {
          "data": {
            "image/png": "[encoded data removed]",
            "text/plain": [
              "<Figure size 432x288 with 1 Axes>"
            ]
          },
          "metadata": {
            "needs_background": "light"
          },
          "output_type": "display_data"
        }
      ],
      "source": [
        "plot(Regression.iteration,BGD_cost,SGD_cost,Mini_cost, title=\"Gradient Descent with learning rate=0.0001\")"
      ]
    },
    {
      "cell_type": "markdown",
      "metadata": {
        "id": "jMvdWtymVfYO"
      },
      "source": [
        "قسمت ه\n",
        "\n",
        "با استفاده از تابع استفاده شده در سلول زیر ابتدا داده ها نرمال میکنیم و هر کدام از ستون ویژگی ها در بازه صفر تا یک قرار میگیرند و در نتیجه نسب به حالات قبل شاهد خطای بسیار کمتر و همگرایی بیشتری میباشیم چون اعداد در بازه های منطقی قرار گرفته اند."
      ]
    },
    {
      "cell_type": "code",
      "execution_count": 20,
      "metadata": {
        "id": "A1HXr01IVmqH"
      },
      "outputs": [],
      "source": [
        "scaler = MinMaxScaler()\n",
        "scaler.fit(data)\n",
        "data = scaler.transform(data)\n",
        "x_train = data[:,:3]\n",
        "y_train = data[:,3]"
      ]
    },
    {
      "cell_type": "code",
      "execution_count": 21,
      "metadata": {
        "id": "EIcBadCEYusJ"
      },
      "outputs": [],
      "source": [
        "Regression.reset_parameters()\n",
        "BGD_cost, BGD_theta = BGD(Regression)\n",
        "Regression.reset_parameters()\n",
        "SGD_cost, SGD_theta = SGD(Regression)\n",
        "Regression.reset_parameters()\n",
        "Mini_cost, Mini_theta = MiniBatch(Regression)"
      ]
    },
    {
      "cell_type": "code",
      "execution_count": 22,
      "metadata": {
        "colab": {
          "base_uri": "https://localhost:8080/",
          "height": 295
        },
        "id": "NO2dIIlHY2Us",
        "outputId": "1fed139a-43c4-4561-b764-17b6c2db1f7d"
      },
      "outputs": [
        {
          "data": {
            "image/png": "[encoded data removed]",
            "text/plain": [
              "<Figure size 432x288 with 1 Axes>"
            ]
          },
          "metadata": {
            "needs_background": "light"
          },
          "output_type": "display_data"
        }
      ],
      "source": [
        "plot(Regression.iteration,BGD_cost,SGD_cost,Mini_cost, title=\"Gradient Descent with MinMax normalization\")"
      ]
    },
    {
      "cell_type": "markdown",
      "metadata": {
        "id": "1zKhd2b2_riJ"
      },
      "source": [
        "قسمت ز\n",
        "\n",
        "\n",
        "\n",
        "![3.PNG](data:image/png;base64,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)"
      ]
    },
    {
      "cell_type": "code",
      "execution_count": 23,
      "metadata": {
        "colab": {
          "base_uri": "https://localhost:8080/"
        },
        "id": "OAlEwNPt_osq",
        "outputId": "2dfbb2a3-cd6a-4c9a-99d2-31f4c730b86b"
      },
      "outputs": [
        {
          "name": "stdout",
          "output_type": "stream",
          "text": [
            "LinearRegression cost: 0.1200981957624696 \n",
            "Theta values: 0.02524932633235566 [0.17621709 0.19702831 0.04332619]\n"
          ]
        }
      ],
      "source": [
        "Reg = LinearRegression()\n",
        "Reg.fit(x_train,y_train)\n",
        "print(f\"LinearRegression cost: {Reg.score(x_train,y_train)} \\nTheta values: {Reg.intercept_} {Reg.coef_}\")"
      ]
    },
    {
      "cell_type": "code",
      "execution_count": 24,
      "metadata": {
        "colab": {
          "base_uri": "https://localhost:8080/"
        },
        "id": "74knsts-bdys",
        "outputId": "a775fda0-b0c2-4cd8-e5b3-ed798fd0d28c"
      },
      "outputs": [
        {
          "name": "stdout",
          "output_type": "stream",
          "text": [
            "Minimum cost:0.02161416491872775 \n",
            "Theta values: [ 0.01004253  0.44816961 -0.14366308  0.18371121]\n"
          ]
        }
      ],
      "source": [
        "print(f\"Minimum cost:{SGD_cost[-1]} \\nTheta values: {SGD_theta}\")"
      ]
    },
    {
      "cell_type": "markdown",
      "metadata": {
        "id": "aHSfIdJ1G4I2"
      },
      "source": [
        "متین فاضل \n",
        "شماره دانشجویی : 9825583"
      ]
    },
    {
      "attachments": {},
      "cell_type": "markdown",
      "metadata": {},
      "source": [
        "سلام وقت بخیر\n",
        "توی قسمت د سوال 2 تمرین عملی 1 من نصف نمره رو نگرفتم ولی طبق سوال برای هر دو حالت انجام دادم اگر امکانش هست این قسمت رو چک کنید"
      ]
    }
  ],
  "metadata": {
    "colab": {
      "collapsed_sections": [],
      "provenance": []
    },
    "kernelspec": {
      "display_name": "Python 3",
      "language": "python",
      "name": "python3"
    },
    "language_info": {
      "codemirror_mode": {
        "name": "ipython",
        "version": 3
      },
      "file_extension": ".py",
      "mimetype": "text/x-python",
      "name": "python",
      "nbconvert_exporter": "python",
      "pygments_lexer": "ipython3",
      "version": "3.11.1"
    },
    "vscode": {
      "interpreter": {
        "hash": "5fbf8e9784ac982d8ce179f71dd20c468e975ec51c40a5964d3afe0cb1a44cfe"
      }
    }
  },
  "nbformat": 4,
  "nbformat_minor": 0
}
